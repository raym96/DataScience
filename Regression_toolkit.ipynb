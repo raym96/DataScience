{
 "cells": [
  {
   "cell_type": "code",
   "execution_count": 1,
   "metadata": {},
   "outputs": [],
   "source": [
    "import numpy as np\n",
    "import pandas as pd\n",
    "import matplotlib.pyplot as plt\n",
    "from scipy import stats\n",
    "pd.set_option('display.width', 100)\n",
    "pd.set_option('precision', 4)\n",
    "import statsmodels.api as sm\n",
    "from statsmodels.stats.stattools import durbin_watson\n",
    "from statsmodels.sandbox.regression.predstd import wls_prediction_std\n",
    "from sklearn.metrics import mean_squared_error, r2_score\n",
    "from linearmodels import PanelOLS"
   ]
  },
  {
   "cell_type": "markdown",
   "metadata": {},
   "source": [
    "# Linear regression to every feature"
   ]
  },
  {
   "cell_type": "code",
   "execution_count": 8,
   "metadata": {},
   "outputs": [],
   "source": [
    "crime = pd.read_csv('data/crime.csv', encoding='unicode_escape', parse_dates=['OCCURRED_ON_DATE'])\n",
    "data = crime.groupby('REPORTING_AREA').mean()\n",
    "data['NUM'] = crime.REPORTING_AREA.value_counts()\n",
    "# remove outliers\n",
    "data = data[(np.abs(stats.zscore(data, axis=0)) < 3).all(axis=1)]\n",
    "cols = ['MONTH', 'HOUR', 'Lat', 'Long']\n",
    "y = data['NUM']"
   ]
  },
  {
   "cell_type": "code",
   "execution_count": 9,
   "metadata": {},
   "outputs": [],
   "source": [
    "# return coefficient, standard error, t-statistic, p-value\n",
    "# of regression y ~ data[colname], for every colname in cols\n",
    "# if add_const, add constant to the single feature\n",
    "\n",
    "def single_feature_reg(y, data, cols, add_const = True):\n",
    "    Allres = None\n",
    "    \n",
    "    for colname in cols:\n",
    "        if add_const:\n",
    "            X_ = sm.add_constant(data[[colname]])\n",
    "        else:\n",
    "            X_ = data[[colname]]\n",
    "            \n",
    "        res = sm.OLS(y.values, np.asarray(X_)).fit()\n",
    "        coef = res.params[1]\n",
    "        std_err = res.bse[1]\n",
    "        t_stat = res.tvalues[1]\n",
    "        p_val = res.pvalues[1]\n",
    "        r2 = res.rsquared\n",
    "        tmp = pd.DataFrame([coef,std_err,t_stat,p_val,r2]).transpose()\n",
    "        tmp.columns = ['coef','std_err','t-value','p-value','R2']\n",
    "        Allres = pd.concat((Allres,tmp),axis=0)\n",
    "    Allres.index = cols\n",
    "    \n",
    "    return(Allres)"
   ]
  },
  {
   "cell_type": "code",
   "execution_count": 10,
   "metadata": {},
   "outputs": [
    {
     "data": {
      "text/html": [
       "<div>\n",
       "<style scoped>\n",
       "    .dataframe tbody tr th:only-of-type {\n",
       "        vertical-align: middle;\n",
       "    }\n",
       "\n",
       "    .dataframe tbody tr th {\n",
       "        vertical-align: top;\n",
       "    }\n",
       "\n",
       "    .dataframe thead th {\n",
       "        text-align: right;\n",
       "    }\n",
       "</style>\n",
       "<table border=\"1\" class=\"dataframe\">\n",
       "  <thead>\n",
       "    <tr style=\"text-align: right;\">\n",
       "      <th></th>\n",
       "      <th>coef</th>\n",
       "      <th>std_err</th>\n",
       "      <th>t-value</th>\n",
       "      <th>p-value</th>\n",
       "      <th>R2</th>\n",
       "    </tr>\n",
       "  </thead>\n",
       "  <tbody>\n",
       "    <tr>\n",
       "      <th>MONTH</th>\n",
       "      <td>-15.1268</td>\n",
       "      <td>33.6046</td>\n",
       "      <td>-0.4501</td>\n",
       "      <td>6.5273e-01</td>\n",
       "      <td>0.0002</td>\n",
       "    </tr>\n",
       "    <tr>\n",
       "      <th>HOUR</th>\n",
       "      <td>60.7837</td>\n",
       "      <td>14.6261</td>\n",
       "      <td>4.1558</td>\n",
       "      <td>3.5746e-05</td>\n",
       "      <td>0.0202</td>\n",
       "    </tr>\n",
       "    <tr>\n",
       "      <th>Lat</th>\n",
       "      <td>99.8472</td>\n",
       "      <td>128.3889</td>\n",
       "      <td>0.7777</td>\n",
       "      <td>4.3697e-01</td>\n",
       "      <td>0.0007</td>\n",
       "    </tr>\n",
       "    <tr>\n",
       "      <th>Long</th>\n",
       "      <td>219.1702</td>\n",
       "      <td>81.2787</td>\n",
       "      <td>2.6965</td>\n",
       "      <td>7.1476e-03</td>\n",
       "      <td>0.0086</td>\n",
       "    </tr>\n",
       "  </tbody>\n",
       "</table>\n",
       "</div>"
      ],
      "text/plain": [
       "           coef   std_err  t-value     p-value      R2\n",
       "MONTH  -15.1268   33.6046  -0.4501  6.5273e-01  0.0002\n",
       "HOUR    60.7837   14.6261   4.1558  3.5746e-05  0.0202\n",
       "Lat     99.8472  128.3889   0.7777  4.3697e-01  0.0007\n",
       "Long   219.1702   81.2787   2.6965  7.1476e-03  0.0086"
      ]
     },
     "execution_count": 10,
     "metadata": {},
     "output_type": "execute_result"
    }
   ],
   "source": [
    "res = single_feature_reg(y,data,cols)\n",
    "res"
   ]
  },
  {
   "cell_type": "code",
   "execution_count": 7,
   "metadata": {},
   "outputs": [
    {
     "data": {
      "text/plain": [
       "'\\\\begin{tabular}{rrrrr}\\n\\\\toprule\\n     coef &   std\\\\_err &  t-value &     p-value &      R2 \\\\\\\\\\n\\\\midrule\\n -15.1268 &   33.6046 &  -0.4501 &  6.5273e-01 &  0.0002 \\\\\\\\\\n  60.7837 &   14.6261 &   4.1558 &  3.5746e-05 &  0.0202 \\\\\\\\\\n  99.8472 &  128.3889 &   0.7777 &  4.3697e-01 &  0.0007 \\\\\\\\\\n 219.1702 &   81.2787 &   2.6965 &  7.1476e-03 &  0.0086 \\\\\\\\\\n\\\\bottomrule\\n\\\\end{tabular}\\n'"
      ]
     },
     "execution_count": 7,
     "metadata": {},
     "output_type": "execute_result"
    }
   ],
   "source": [
    "res.to_latex(index=False)"
   ]
  },
  {
   "cell_type": "code",
   "execution_count": null,
   "metadata": {},
   "outputs": [],
   "source": []
  }
 ],
 "metadata": {
  "kernelspec": {
   "display_name": "Python 3",
   "language": "python",
   "name": "python3"
  },
  "language_info": {
   "codemirror_mode": {
    "name": "ipython",
    "version": 3
   },
   "file_extension": ".py",
   "mimetype": "text/x-python",
   "name": "python",
   "nbconvert_exporter": "python",
   "pygments_lexer": "ipython3",
   "version": "3.6.10"
  }
 },
 "nbformat": 4,
 "nbformat_minor": 2
}
