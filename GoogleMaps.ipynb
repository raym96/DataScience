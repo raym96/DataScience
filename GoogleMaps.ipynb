{
 "cells": [
  {
   "cell_type": "code",
   "execution_count": 1,
   "metadata": {},
   "outputs": [],
   "source": [
    "import numpy as np\n",
    "import pandas as pd\n",
    "import json\n",
    "\n",
    "#from mpl_toolkits.basemap import Basemap\n",
    "\n",
    "import gmaps\n",
    "with open('apikey.txt') as f:\n",
    "    api_key = f.readline()\n",
    "    f.close\n",
    "gmaps.configure(api_key=api_key)"
   ]
  },
  {
   "cell_type": "markdown",
   "metadata": {},
   "source": [
    "# Import data\n",
    "\n",
    "### Data structure requirement:\n",
    "- Has a column named \"Lat\" for latitude\n",
    "- Has a column named \"Long\" for longitude\n",
    "- Has filtered out all non-relevant rows"
   ]
  },
  {
   "cell_type": "code",
   "execution_count": 4,
   "metadata": {},
   "outputs": [],
   "source": [
    "filename ='data/airbnb.csv'\n",
    "encoding = None\n",
    "cols = None # Specify if need to consider a subset of columns\n",
    "\n",
    "\n",
    "df = pd.read_csv(filename,encoding=encoding)\n",
    "\n",
    "df['Weight'] = np.random.rand(len(df))"
   ]
  },
  {
   "cell_type": "markdown",
   "metadata": {},
   "source": [
    "# Google Maps"
   ]
  },
  {
   "cell_type": "code",
   "execution_count": 30,
   "metadata": {},
   "outputs": [],
   "source": [
    "class GMAPS():\n",
    "    def __init__(self, figure_layout = None):\n",
    "        self.fig = gmaps.figure(layout = figure_layout, display_toolbar = False,\n",
    "                                map_type = \"TERRAIN\") # Could be HYBRID\n",
    "\n",
    "    def add_heatmap(self, data, latcol = 'Lat', loncol = 'Long', weightcol = None, point_radius = 20, **kwargs):\n",
    "        \"\"\"\n",
    "        Creates a heatmap\n",
    "        \n",
    "        data: pandas dataframe. Has columns: Lat, Long, Weight. Must be cleaned beforehand\n",
    "        latcol, loncol: name of latitude &  longitude cols\n",
    "        weightcol: name of the numerical column used for weighting\n",
    "        \n",
    "        **kwargs: \n",
    "        max_intensity\n",
    "        point_radius\n",
    "        opacity\n",
    "        gradient\n",
    "        \"\"\"\n",
    "        if weightcol != None:\n",
    "            heatmap = gmaps.heatmap_layer(locations = data[[latcol, loncol]], weights = data['Weight'], \n",
    "                                          point_radius = point_radius,**kwargs)\n",
    "        else:\n",
    "            heatmap = gmaps.heatmap_layer(locations = data[[latcol, loncol]], \n",
    "                                         point_radius = point_radius, **kwargs)\n",
    "        self.fig.add_layer(heatmap)\n",
    "        \n",
    "    def add_symbols(self, symbols, latcol = 'Lat', loncol = 'Long', fill_color = 'red', stroke_color = 'red', **kwargs):\n",
    "        \"\"\"\n",
    "        Add individual points\n",
    "        symbols: pandas dataframe. Has columns: Lat, Long. Must be cleaned beforehand\n",
    "        \n",
    "        **kwargs: \n",
    "        fill_color\n",
    "        fill_opacity\n",
    "        stroke_color\n",
    "        stroke_opacity\n",
    "        scale\n",
    "        \"\"\"\n",
    "        symbol_layer = gmaps.symbol_layer(locations = symbols[[latcol, loncol]], fill_color = fill_color,\n",
    "                                          stroke_color = stroke_color, **kwargs) \n",
    "        self.fig.add_layer(symbol_layer)\n",
    "    \n",
    "    def add_json(self, filename, fill_opacity = 0, stroke_weight = 1, **kwargs):\n",
    "        \"\"\"\n",
    "        Add geojson layer. Useful for districts, neighborhoods, US states etc\n",
    "        \n",
    "        **kwargs:\n",
    "        fill_opacity\n",
    "        fill_color\n",
    "        stroke_color\n",
    "        stroke_opacity\n",
    "        stroke_weight = 3, range 0 to 20\n",
    "        \"\"\"\n",
    "        with open(filename) as f:\n",
    "            geojson_file = json.load(f)\n",
    "            f.close\n",
    "        geojson = gmaps.geojson_layer(geojson_file, \n",
    "                                      fill_opacity = fill_opacity, stroke_weight = stroke_weight, **kwargs)\n",
    "        self.fig.add_layer(geojson)\n",
    "        \n",
    "    def display(self):\n",
    "        display(self.fig)"
   ]
  },
  {
   "cell_type": "markdown",
   "metadata": {},
   "source": [
    "# Exemple"
   ]
  },
  {
   "cell_type": "code",
   "execution_count": 33,
   "metadata": {
    "scrolled": false
   },
   "outputs": [
    {
     "data": {
      "application/vnd.jupyter.widget-view+json": {
       "model_id": "aab48752119d4b218a4be79522900032",
       "version_major": 2,
       "version_minor": 0
      },
      "text/plain": [
       "Figure(layout=FigureLayout(border='1px solid black', height='600px', padding='3px', width='600px'))"
      ]
     },
     "metadata": {},
     "output_type": "display_data"
    },
    {
     "data": {
      "application/vnd.jupyter.widget-view+json": {
       "model_id": "3143bf4104b0444dab4ea4404c2e19a7",
       "version_major": 2,
       "version_minor": 0
      },
      "text/plain": [
       "Figure(layout=FigureLayout(border='1px solid black', height='600px', padding='3px', width='600px'))"
      ]
     },
     "metadata": {},
     "output_type": "display_data"
    },
    {
     "data": {
      "application/vnd.jupyter.widget-view+json": {
       "model_id": "bad4fd8997c546cd8eff032688df795b",
       "version_major": 2,
       "version_minor": 0
      },
      "text/plain": [
       "Figure(layout=FigureLayout(border='1px solid black', height='600px', padding='3px', width='600px'))"
      ]
     },
     "metadata": {},
     "output_type": "display_data"
    }
   ],
   "source": [
    "latcol = 'latitude'\n",
    "loncol = 'longitude'\n",
    "jsonpath = 'Boston_Neighborhoods.geojson'\n",
    "catcol = 'room_type'\n",
    "\n",
    "\n",
    "layout={\n",
    "        'width': '600px',\n",
    "        'height': '600px',\n",
    "        'padding': '3px',\n",
    "        'border': '1px solid black'\n",
    "        }\n",
    "\n",
    "df = df[df.city == 'Boston']\n",
    "\n",
    "for category in df[catcol].unique():\n",
    "    mymap = GMAPS(layout)\n",
    "    mymap.add_heatmap(df[df[catcol] == category], latcol = latcol, loncol = loncol, point_radius = 5)\n",
    "    #mymap.add_symbols(df[df['room_type'] == category].iloc[:5], latcol = latcol, loncol = loncol)\n",
    "    mymap.add_json(filename = jsonpath)\n",
    "    mymap.display()"
   ]
  },
  {
   "cell_type": "code",
   "execution_count": null,
   "metadata": {},
   "outputs": [],
   "source": [
    "mymap = GMAPS(layout)\n",
    "mymap.add_heatmap(df, latcol = latcol, loncol = loncol, point_radius = 5)\n",
    "mymap.add_symbols(df.iloc[:5], latcol = latcol, loncol = loncol)\n",
    "mymap.add_json('Boston_Neighborhoods.geojson')\n",
    "mymap.display()"
   ]
  },
  {
   "cell_type": "markdown",
   "metadata": {},
   "source": [
    "# Bournemouth venues"
   ]
  },
  {
   "cell_type": "code",
   "execution_count": 5,
   "metadata": {
    "scrolled": false
   },
   "outputs": [
    {
     "data": {
      "application/vnd.jupyter.widget-view+json": {
       "model_id": "38956acf8c364c5c8faa200e2f4afe8c",
       "version_major": 2,
       "version_minor": 0
      },
      "text/plain": [
       "Figure(layout=FigureLayout(border='1px solid black', height='600px', padding='3px', width='600px'))"
      ]
     },
     "metadata": {},
     "output_type": "display_data"
    }
   ],
   "source": [
    "venues = pd.read_csv(\"Datasets/bournemouth_venues.csv\")\n",
    "venues.rename(columns = {'Venue Latitude':'Lat', 'Venue Longitude':'Long'}, inplace = True)\n",
    "\n",
    "layout={\n",
    "        'width': '600px',\n",
    "        'height': '600px',\n",
    "        'padding': '3px',\n",
    "        'border': '1px solid black'\n",
    "        }\n",
    "mymap = GMAPS(layout)\n",
    "mymap.add_heatmap(venues, point_radius = 20)\n",
    "mymap.display()"
   ]
  },
  {
   "cell_type": "code",
   "execution_count": 6,
   "metadata": {},
   "outputs": [
    {
     "data": {
      "application/vnd.jupyter.widget-view+json": {
       "model_id": "0d9b93125dc94b0fb0942970128442e6",
       "version_major": 2,
       "version_minor": 0
      },
      "text/plain": [
       "Figure(layout=FigureLayout(border='1px solid black', height='600px', padding='3px', width='600px'))"
      ]
     },
     "metadata": {},
     "output_type": "display_data"
    }
   ],
   "source": [
    "mymap = GMAPS(layout)\n",
    "mymap.add_symbols(venues)\n",
    "mymap.display()"
   ]
  },
  {
   "cell_type": "code",
   "execution_count": 7,
   "metadata": {},
   "outputs": [],
   "source": [
    "df = pd.read_csv(\"airbnb.csv\")"
   ]
  },
  {
   "cell_type": "code",
   "execution_count": 12,
   "metadata": {},
   "outputs": [],
   "source": [
    "df.rename(columns = {'latitude':'Lat', 'longitude': 'Long'}, inplace = True)"
   ]
  },
  {
   "cell_type": "code",
   "execution_count": 15,
   "metadata": {},
   "outputs": [
    {
     "data": {
      "application/vnd.jupyter.widget-view+json": {
       "model_id": "36de014501684331b4923ec7225accd6",
       "version_major": 2,
       "version_minor": 0
      },
      "text/plain": [
       "Figure(layout=FigureLayout(border='1px solid black', height='600px', padding='3px', width='600px'))"
      ]
     },
     "metadata": {},
     "output_type": "display_data"
    }
   ],
   "source": [
    "mymap = GMAPS(layout)\n",
    "mymap.add_heatmap(df, point_radius = 20, weights = df['log_price'])\n",
    "mymap.display()"
   ]
  },
  {
   "cell_type": "code",
   "execution_count": null,
   "metadata": {},
   "outputs": [],
   "source": []
  }
 ],
 "metadata": {
  "kernelspec": {
   "display_name": "Python 3",
   "language": "python",
   "name": "python3"
  },
  "language_info": {
   "codemirror_mode": {
    "name": "ipython",
    "version": 3
   },
   "file_extension": ".py",
   "mimetype": "text/x-python",
   "name": "python",
   "nbconvert_exporter": "python",
   "pygments_lexer": "ipython3",
   "version": "3.7.1"
  }
 },
 "nbformat": 4,
 "nbformat_minor": 2
}
